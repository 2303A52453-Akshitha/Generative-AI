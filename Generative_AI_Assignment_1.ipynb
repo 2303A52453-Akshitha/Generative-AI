{
  "nbformat": 4,
  "nbformat_minor": 0,
  "metadata": {
    "colab": {
      "provenance": [],
      "authorship_tag": "ABX9TyPxpvudaJW8CWfMBehjUkIJ",
      "include_colab_link": true
    },
    "kernelspec": {
      "name": "python3",
      "display_name": "Python 3"
    },
    "language_info": {
      "name": "python"
    }
  },
  "cells": [
    {
      "cell_type": "markdown",
      "metadata": {
        "id": "view-in-github",
        "colab_type": "text"
      },
      "source": [
        "<a href=\"https://colab.research.google.com/github/2303A52453-Akshitha/Generative-AI/blob/main/Generative_AI_Assignment_1.ipynb\" target=\"_parent\"><img src=\"https://colab.research.google.com/assets/colab-badge.svg\" alt=\"Open In Colab\"/></a>"
      ]
    },
    {
      "cell_type": "markdown",
      "source": [
        "A.AKSHITHA\n",
        "\n",
        "\n",
        "2303A52453\n",
        "\n",
        "\n",
        "BATCH - 42"
      ],
      "metadata": {
        "id": "UWVwIx4BY-vY"
      }
    },
    {
      "cell_type": "markdown",
      "source": [
        "QUESTION -1"
      ],
      "metadata": {
        "id": "rvwEbArHwqmo"
      }
    },
    {
      "cell_type": "code",
      "source": [
        "\n",
        " import numpy as np\n",
        " from sklearn.metrics import mean_absolute_error, mean_squared_error\n",
        " actual = np.array([20, 30, 40, 50, 60])\n",
        " predicted = np.array([20.5, 30.3, 40.2, 50.6, 60.7])\n",
        " n = len(actual)\n",
        " mae_manual = np.sum(np.abs(actual - predicted)) / n\n",
        " mse_manual = np.sum((actual - predicted) ** 2) / n\n",
        " rmse_manual = np.sqrt(mse_manual)\n",
        " mae_sklearn = mean_absolute_error(actual, predicted)\n",
        " mse_sklearn = mean_squared_error(actual, predicted)\n",
        " rmse_sklearn = np.sqrt(mse_sklearn)\n",
        " print(\"Manual Calculations:\")\n",
        " print(f\"Mean Absolute Error (MAE): {mae_manual}\")\n",
        " print(f\"Mean Squared Error (MSE): {mse_manual}\")\n",
        " print(f\"Root Mean Squared Error (RMSE): {rmse_manual}\")\n",
        " print(\"\\nScikit-Learn Metrics:\")\n",
        " print(f\"Mean Absolute Error (MAE): {mae_sklearn}\")\n",
        " print(f\"Mean Squared Error (MSE): {mse_sklearn}\")\n",
        " print(f\"Root Mean Squared Error (RMSE): {rmse_sklearn}\")\n",
        " if np.isclose(mae_manual, mae_sklearn) and np.isclose(mse_manual,\n",
        " mse_sklearn) and np.isclose(rmse_manual, rmse_sklearn):\n",
        "    print(\"\\nManual calculations match the library results!\")\n",
        " else:\n",
        "    print(\"\\nThere is a discrepancy between manual calculations and library results.\")\n",
        "\n",
        "\n",
        "\n"
      ],
      "metadata": {
        "colab": {
          "base_uri": "https://localhost:8080/"
        },
        "id": "lS-yC0YDvONa",
        "outputId": "be2da45e-feb9-4ddb-865a-f9aa8e14662b"
      },
      "execution_count": 3,
      "outputs": [
        {
          "output_type": "stream",
          "name": "stdout",
          "text": [
            "Manual Calculations:\n",
            "Mean Absolute Error (MAE): 0.4600000000000016\n",
            "Mean Squared Error (MSE): 0.24600000000000147\n",
            "Root Mean Squared Error (RMSE): 0.49598387070549127\n",
            "\n",
            "Scikit-Learn Metrics:\n",
            "Mean Absolute Error (MAE): 0.4600000000000016\n",
            "Mean Squared Error (MSE): 0.24600000000000147\n",
            "Root Mean Squared Error (RMSE): 0.49598387070549127\n",
            "\n",
            "Manual calculations match the library results!\n"
          ]
        }
      ]
    },
    {
      "cell_type": "markdown",
      "source": [
        "QUESTION - 2"
      ],
      "metadata": {
        "id": "BA0P-jg7w1ox"
      }
    },
    {
      "cell_type": "code",
      "source": [
        "\n",
        " import numpy as np\n",
        " from sklearn.metrics import accuracy_score, precision_score, recall_score, f1_score\n",
        " actual = np.array([\n",
        "    [0, 0, 1, 1, 2, 0],\n",
        "    [0, 0, 1, 0, 2, 0],\n",
        "    [0, 1, 1, 2, 2, 1],\n",
        "    [0, 2, 1, 0, 2, 2],\n",
        "    [0, 2, 1, 2, 2, 2]\n",
        " ])\n",
        " predicted = np.array([\n",
        "    [0, 0, 1, 1, 2, 0],\n",
        "    [0, 0, 1, 0, 2, 0],\n",
        "    [0, 1, 1, 2, 2, 1],\n",
        "    [0, 2, 1, 0, 2, 2],\n",
        "    [0, 2, 1, 2, 2, 2]\n",
        " ])\n",
        " actual_flat = actual.flatten()\n",
        " predicted_flat = predicted.flatten()\n",
        " accuracy_manual = np.sum(actual_flat == predicted_flat) / len(actual_flat)\n",
        " unique_classes = np.unique(actual_flat)\n",
        " precision_manual = []\n",
        " recall_manual = []\n",
        " f1_manual = []\n",
        " for cls in unique_classes:\n",
        "    tp = np.sum((actual_flat == cls) & (predicted_flat == cls))\n",
        "    fp = np.sum((actual_flat != cls) & (predicted_flat == cls))\n",
        "    fn = np.sum((actual_flat == cls) & (predicted_flat != cls))\n",
        "    precision = tp / (tp + fp) if (tp + fp) > 0 else 0\n",
        "    recall = tp / (tp + fn) if (tp + fn) > 0 else 0\n",
        "    f1 = 2 * (precision * recall) / (precision + recall) if (precision + recall) > 0 else 0\n",
        "    precision_manual.append(precision)\n",
        "    recall_manual.append(recall)\n",
        "    f1_manual.append(f1)\n",
        " accuracy_sklearn = accuracy_score(actual_flat, predicted_flat)\n",
        " precision_sklearn = precision_score(actual_flat, predicted_flat, average=None)\n",
        " recall_sklearn = recall_score(actual_flat, predicted_flat, average=None)\n",
        " f1_sklearn = f1_score(actual_flat, predicted_flat, average=None)\n",
        " print(\"Manual Calculations:\")\n",
        " print(f\"Accuracy: {accuracy_manual}\")\n",
        " print(f\"Precision: {precision_manual}\")\n",
        " print(f\"Recall: {recall_manual}\")\n",
        " print(f\"F1-Score: {f1_manual}\")\n",
        " print(\"\\nUsing sklearn:\")\n",
        " print(f\"Accuracy: {accuracy_sklearn}\")\n",
        " print(f\"Precision: {precision_sklearn}\")\n",
        " print(f\"Recall: {recall_sklearn}\")\n",
        " print(f\"F1-Score: {f1_sklearn}\")\n",
        " if (np.isclose(accuracy_manual, accuracy_sklearn) and\n",
        "    np.allclose(precision_manual, precision_sklearn) and\n",
        "    np.allclose(recall_manual, recall_sklearn) and\n",
        "    np.allclose(f1_manual, f1_sklearn)):\n",
        "    print(\"\\nManual calculations match the library results!\")\n",
        " else:\n",
        "    print(\"\\nThere is a discrepancy between manual calculations and library results.\")\n"
      ],
      "metadata": {
        "colab": {
          "base_uri": "https://localhost:8080/"
        },
        "id": "VEJCTEo2w4Tq",
        "outputId": "7258cc6e-adb5-43f2-b595-50792e2915a8"
      },
      "execution_count": 7,
      "outputs": [
        {
          "output_type": "stream",
          "name": "stdout",
          "text": [
            "Manual Calculations:\n",
            "Accuracy: 1.0\n",
            "Precision: [1.0, 1.0, 1.0]\n",
            "Recall: [1.0, 1.0, 1.0]\n",
            "F1-Score: [1.0, 1.0, 1.0]\n",
            "\n",
            "Using sklearn:\n",
            "Accuracy: 1.0\n",
            "Precision: [1. 1. 1.]\n",
            "Recall: [1. 1. 1.]\n",
            "F1-Score: [1. 1. 1.]\n",
            "\n",
            "Manual calculations match the library results!\n"
          ]
        }
      ]
    }
  ]
}